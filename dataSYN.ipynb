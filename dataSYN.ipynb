{
 "cells": [
  {
   "cell_type": "code",
   "execution_count": 1,
   "id": "eb08177d-66d0-4c8d-bb4b-348d1087ec52",
   "metadata": {
    "execution": {
     "iopub.execute_input": "2021-09-07T13:23:34.172490Z",
     "iopub.status.busy": "2021-09-07T13:23:34.171107Z",
     "iopub.status.idle": "2021-09-07T13:23:35.160833Z",
     "shell.execute_reply": "2021-09-07T13:23:35.158100Z",
     "shell.execute_reply.started": "2021-09-07T13:23:34.172192Z"
    },
    "tags": []
   },
   "outputs": [],
   "source": [
    "import matplotlib.pyplot as plt\n",
    "import warnings\n",
    "import matplotlib.cbook\n",
    "warnings.filterwarnings(\"ignore\",category=matplotlib.cbook.mplDeprecation)"
   ]
  },
  {
   "cell_type": "code",
   "execution_count": 2,
   "id": "51d298e7-de24-4696-9e8f-ad9dfc495d84",
   "metadata": {
    "execution": {
     "iopub.execute_input": "2021-09-07T13:23:35.179995Z",
     "iopub.status.busy": "2021-09-07T13:23:35.175931Z",
     "iopub.status.idle": "2021-09-07T13:23:43.984304Z",
     "shell.execute_reply": "2021-09-07T13:23:43.982139Z",
     "shell.execute_reply.started": "2021-09-07T13:23:35.179881Z"
    },
    "tags": []
   },
   "outputs": [],
   "source": [
    "import phoebe\n",
    "import numpy as np\n",
    "\n",
    "logger = phoebe.logger('error')"
   ]
  },
  {
   "cell_type": "code",
   "execution_count": 3,
   "id": "0b770354-3e8f-40b6-9d24-6f7b9a2ca156",
   "metadata": {
    "execution": {
     "iopub.execute_input": "2021-09-07T13:23:43.987429Z",
     "iopub.status.busy": "2021-09-07T13:23:43.986713Z",
     "iopub.status.idle": "2021-09-07T13:23:45.000043Z",
     "shell.execute_reply": "2021-09-07T13:23:44.998018Z",
     "shell.execute_reply.started": "2021-09-07T13:23:43.987364Z"
    },
    "tags": []
   },
   "outputs": [],
   "source": [
    "b=phoebe.default_binary()"
   ]
  },
  {
   "cell_type": "code",
   "execution_count": 4,
   "id": "8d8b2f68-53e5-43e6-9bf3-7c3bd6385b9e",
   "metadata": {
    "execution": {
     "iopub.execute_input": "2021-09-07T13:23:45.006880Z",
     "iopub.status.busy": "2021-09-07T13:23:45.005286Z",
     "iopub.status.idle": "2021-09-07T13:23:45.651786Z",
     "shell.execute_reply": "2021-09-07T13:23:45.649233Z",
     "shell.execute_reply.started": "2021-09-07T13:23:45.006769Z"
    },
    "partialCollapse": true,
    "tags": []
   },
   "outputs": [
    {
     "data": {
      "text/plain": [
       "<ConstraintParameter: {sma@binary@component} = (((({mass@primary@component} * ({period@binary@component} ** 2.000000)) * ({q@binary@component} + 1.000000)) * 2942.206217504419328179210424423218) / 39.478418) ** (1./3) (solar units) => 5.299999999999999 solRad>"
      ]
     },
     "execution_count": 4,
     "metadata": {},
     "output_type": "execute_result"
    }
   ],
   "source": [
    "\n",
    "# For setting mass instead of sma\n",
    "b.flip_constraint(qualifier='mass',component='primary',solve_for='sma')"
   ]
  },
  {
   "cell_type": "markdown",
   "id": "9776c1fb-2971-4dc0-bbf9-8f40fa1cb24b",
   "metadata": {
    "tags": []
   },
   "source": [
    "### Paper: Discovery of β Cep pulsations in the eclipsing binary V453 Cygni [doi:10.1093/mnrasl/slaa091]\n",
    "\n",
    "![https://github.com/Vysakh13579/FITTING_BINARIES/blob/85a643457cd860a495f999754a7afb6de2fc7ea5/parameters.png](https://github.com/Vysakh13579/FITTING_BINARIES/blob/85a643457cd860a495f999754a7afb6de2fc7ea5/parameters.png 'Title' )"
   ]
  },
  {
   "cell_type": "code",
   "execution_count": 5,
   "id": "91ae0075-4d21-4561-afcf-153e421f00db",
   "metadata": {
    "execution": {
     "iopub.execute_input": "2021-09-07T13:24:52.071810Z",
     "iopub.status.busy": "2021-09-07T13:24:52.070551Z",
     "iopub.status.idle": "2021-09-07T13:25:08.270338Z",
     "shell.execute_reply": "2021-09-07T13:25:08.268601Z",
     "shell.execute_reply.started": "2021-09-07T13:24:52.071707Z"
    },
    "tags": []
   },
   "outputs": [],
   "source": [
    "b['requiv@primary@component']=8.665\n",
    "b['requiv@secondary@component']=5.250\n",
    "\n",
    "b['gravb_bol@primary@component']=1\n",
    "b['gravb_bol@secondary@component']=1\n",
    "\n",
    "b['teff@primary@component']=28800\n",
    "b['teff@secondary@component']=27700\n",
    "\n",
    "b['mass@primary@component']=13.96\n",
    "\n",
    "b['period@binary@component']= 3.889\n",
    "b['per0@binary@component']=152.5\n",
    "b['ecc@binary@component']=0.025\n",
    "b['incl@binary@component']=86.14\n",
    "b['q@binary@component']=0.795"
   ]
  },
  {
   "cell_type": "code",
   "execution_count": null,
   "id": "1666fb7f-33e5-4ad9-8d62-ff07825e7561",
   "metadata": {},
   "outputs": [
    {
     "data": {
      "text/plain": [
       "<ParameterSet: 50 parameters | contexts: figure, constraint, compute, dataset>"
      ]
     },
     "execution_count": 19,
     "metadata": {},
     "output_type": "execute_result"
    }
   ],
   "source": [
    "lctimes=phoebe.linspace(0,19.4,501)\n",
    "rvtimes=phoebe.linspace(0,19.4,101)\n",
    "b.add_dataset('lc', times=lctimes, dataset='lc01',overwrite=True)\n",
    "b.add_dataset('rv', times=rvtimes, dataset='rv01',overwrite=True)"
   ]
  },
  {
   "cell_type": "markdown",
   "id": "501b4d27-e914-4d78-8e49-d06cbbccffa2",
   "metadata": {},
   "source": [
    "### As the above did not have limb darkening values, I refered to the previous paper by the same author\n",
    "[doi:10.1093/mnras/sty2516]\n",
    "\n",
    "![https://github.com/Vysakh13579/FITTING_BINARIES/blob/85a643457cd860a495f999754a7afb6de2fc7ea5/param2.png](https://github.com/Vysakh13579/FITTING_BINARIES/blob/85a643457cd860a495f999754a7afb6de2fc7ea5/param2.png \"Title\")"
   ]
  },
  {
   "cell_type": "code",
   "execution_count": 20,
   "id": "e53637f4-91e8-4996-a9a8-a2cde629d6b3",
   "metadata": {
    "execution": {
     "iopub.execute_input": "2021-09-07T13:32:31.163944Z",
     "iopub.status.busy": "2021-09-07T13:32:31.162967Z",
     "iopub.status.idle": "2021-09-07T13:32:37.494054Z",
     "shell.execute_reply": "2021-09-07T13:32:37.492068Z",
     "shell.execute_reply.started": "2021-09-07T13:32:31.163871Z"
    },
    "tags": []
   },
   "outputs": [],
   "source": [
    "b.set_value_all(qualifier='ld_mode', value='manual')\n",
    "b.set_value_all(qualifier='ld_func', value='linear')\n",
    "b.set_value_all(qualifier='ld_coeffs', component='primary', value=0.369)\n",
    "b.set_value_all(qualifier='ld_coeffs', component='secondary', value=0.268)"
   ]
  },
  {
   "cell_type": "code",
   "execution_count": 21,
   "id": "d125126b-bf55-4f64-bd3b-180fd2f031ee",
   "metadata": {
    "execution": {
     "iopub.execute_input": "2021-09-07T13:32:37.497044Z",
     "iopub.status.busy": "2021-09-07T13:32:37.496365Z",
     "iopub.status.idle": "2021-09-07T13:32:41.840615Z",
     "shell.execute_reply": "2021-09-07T13:32:41.838498Z",
     "shell.execute_reply.started": "2021-09-07T13:32:37.496979Z"
    },
    "tags": []
   },
   "outputs": [],
   "source": [
    "b.set_value_all('ld_mode_bol', 'manual')\n",
    "b.set_value_all('ld_func_bol','linear')\n",
    "b.set_value('ld_coeffs_bol@primary@component',0.585)\n",
    "b.set_value('ld_coeffs_bol@secondary@component',0.630)\n",
    "b.set_value('irrad_frac_refl_bol@primary@component',1)\n",
    "b.set_value('irrad_frac_refl_bol@secondary@component',1)"
   ]
  },
  {
   "cell_type": "code",
   "execution_count": 22,
   "id": "11c1c816-f773-4321-b0de-92fcc6fec2cf",
   "metadata": {
    "execution": {
     "iopub.execute_input": "2021-09-07T13:32:41.845048Z",
     "iopub.status.busy": "2021-09-07T13:32:41.844351Z",
     "iopub.status.idle": "2021-09-07T13:32:42.284049Z",
     "shell.execute_reply": "2021-09-07T13:32:42.281149Z",
     "shell.execute_reply.started": "2021-09-07T13:32:41.844983Z"
    },
    "tags": []
   },
   "outputs": [
    {
     "name": "stdout",
     "output_type": "stream",
     "text": [
      "Run Checks Report: PASS\n",
      "\n"
     ]
    }
   ],
   "source": [
    "print(b.run_checks())"
   ]
  },
  {
   "cell_type": "code",
   "execution_count": 23,
   "id": "ff7751f6-2118-442e-ad85-6829a8b51957",
   "metadata": {
    "execution": {
     "iopub.execute_input": "2021-09-07T13:32:42.289218Z",
     "iopub.status.busy": "2021-09-07T13:32:42.287245Z",
     "iopub.status.idle": "2021-09-07T13:32:44.551342Z",
     "shell.execute_reply": "2021-09-07T13:32:44.549209Z",
     "shell.execute_reply.started": "2021-09-07T13:32:42.289135Z"
    },
    "tags": []
   },
   "outputs": [
    {
     "name": "stderr",
     "output_type": "stream",
     "text": [
      "100%|█████████████████████████████████████████████████████████████████████████████| 3/3 [00:00<00:00, 10.97it/s]\n"
     ]
    }
   ],
   "source": [
    "b.add_compute('ellc', compute='fastcompute',overwrite=True)\n",
    "b.run_compute(compute='fastcompute')\n",
    "\n",
    "fluxes = b.get_value('fluxes@model') + np.random.normal(size=lctimes.shape) * 0.01\n",
    "fsigmas = np.ones_like(lctimes) * 0.02\n",
    "\n",
    "rvsA = b.get_value('rvs@primary@model') + np.random.normal(size=rvtimes.shape) * 10\n",
    "rvsB = b.get_value('rvs@secondary@model') + np.random.normal(size=rvtimes.shape) * 10\n",
    "rvsigmas = np.ones_like(rvtimes) * 20"
   ]
  },
  {
   "cell_type": "code",
   "execution_count": 24,
   "id": "0d073a48-dbc1-4b11-a804-dfc1689576cf",
   "metadata": {
    "execution": {
     "iopub.execute_input": "2021-09-07T13:32:44.554741Z",
     "iopub.status.busy": "2021-09-07T13:32:44.554039Z",
     "iopub.status.idle": "2021-09-07T13:32:45.667698Z",
     "shell.execute_reply": "2021-09-07T13:32:45.663497Z",
     "shell.execute_reply.started": "2021-09-07T13:32:44.554676Z"
    },
    "tags": []
   },
   "outputs": [
    {
     "data": {
      "image/png": "[encoded data removed]",
      "text/plain": [
       "<Figure size 576x864 with 2 Axes>"
      ]
     },
     "metadata": {
      "needs_background": "light"
     },
     "output_type": "display_data"
    },
    {
     "data": {
      "text/plain": [
       "(<autofig.figure.Figure | 2 axes | 3 call(s)>,\n",
       " <Figure size 576x864 with 2 Axes>)"
      ]
     },
     "execution_count": 24,
     "metadata": {},
     "output_type": "execute_result"
    }
   ],
   "source": [
    "b.plot(x='phases',show=True)"
   ]
  },
  {
   "cell_type": "markdown",
   "id": "d28746aa-31d2-4a18-98f3-e92abd765d4d",
   "metadata": {},
   "source": [
    "### Plots from published papers(2020,2018 respectively)\n",
    "\n",
    "![https://github.com/Vysakh13579/FITTING_BINARIES/blob/85a643457cd860a495f999754a7afb6de2fc7ea5/curve.png](https://github.com/Vysakh13579/FITTING_BINARIES/blob/85a643457cd860a495f999754a7afb6de2fc7ea5/curve.png \"Title\")\n",
    "![https://github.com/Vysakh13579/FITTING_BINARIES/blob/85a643457cd860a495f999754a7afb6de2fc7ea5/curve2.png](https://github.com/Vysakh13579/FITTING_BINARIES/blob/85a643457cd860a495f999754a7afb6de2fc7ea5/curve2.png \"Title\")"
   ]
  },
  {
   "cell_type": "markdown",
   "id": "3aa27393-097e-4f0b-87fc-6c49eb5b16dd",
   "metadata": {
    "execution": {
     "iopub.execute_input": "2021-09-07T13:50:08.387576Z",
     "iopub.status.busy": "2021-09-07T13:50:08.386808Z",
     "iopub.status.idle": "2021-09-07T13:50:08.553711Z",
     "shell.execute_reply": "2021-09-07T13:50:08.551197Z",
     "shell.execute_reply.started": "2021-09-07T13:50:08.387510Z"
    }
   },
   "source": []
  },
  {
   "cell_type": "code",
   "execution_count": null,
   "id": "9ac8eb28-c335-4bf7-92b2-a90ebfb11245",
   "metadata": {},
   "outputs": [],
   "source": []
  }
 ],
 "metadata": {
  "kernelspec": {
   "display_name": "Python 3 (ipykernel)",
   "language": "python",
   "name": "python3"
  },
  "language_info": {
   "codemirror_mode": {
    "name": "ipython",
    "version": 3
   },
   "file_extension": ".py",
   "mimetype": "text/x-python",
   "name": "python",
   "nbconvert_exporter": "python",
   "pygments_lexer": "ipython3",
   "version": "3.8.10"
  }
 },
 "nbformat": 4,
 "nbformat_minor": 5
}
