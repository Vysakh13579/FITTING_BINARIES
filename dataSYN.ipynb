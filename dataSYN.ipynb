{
 "cells": [
  {
   "cell_type": "code",
   "execution_count": 21,
   "id": "eb08177d-66d0-4c8d-bb4b-348d1087ec52",
   "metadata": {
    "execution": {
     "iopub.execute_input": "2021-09-09T07:56:40.885848Z",
     "iopub.status.busy": "2021-09-09T07:56:40.884958Z",
     "iopub.status.idle": "2021-09-09T07:56:40.896674Z",
     "shell.execute_reply": "2021-09-09T07:56:40.894253Z",
     "shell.execute_reply.started": "2021-09-09T07:56:40.885775Z"
    },
    "tags": []
   },
   "outputs": [],
   "source": [
    "import matplotlib.pyplot as plt\n",
    "import warnings\n",
    "import matplotlib.cbook\n",
    "import pandas as pd\n",
    "warnings.filterwarnings(\"ignore\",category=matplotlib.cbook.mplDeprecation)"
   ]
  },
  {
   "cell_type": "code",
   "execution_count": 22,
   "id": "51d298e7-de24-4696-9e8f-ad9dfc495d84",
   "metadata": {
    "execution": {
     "iopub.execute_input": "2021-09-09T07:56:41.070372Z",
     "iopub.status.busy": "2021-09-09T07:56:41.069634Z",
     "iopub.status.idle": "2021-09-09T07:56:41.079517Z",
     "shell.execute_reply": "2021-09-09T07:56:41.077508Z",
     "shell.execute_reply.started": "2021-09-09T07:56:41.070303Z"
    },
    "tags": []
   },
   "outputs": [],
   "source": [
    "import phoebe\n",
    "import numpy as np\n",
    "\n",
    "logger = phoebe.logger('error')"
   ]
  },
  {
   "cell_type": "code",
   "execution_count": 23,
   "id": "0b770354-3e8f-40b6-9d24-6f7b9a2ca156",
   "metadata": {
    "execution": {
     "iopub.execute_input": "2021-09-09T07:56:41.306280Z",
     "iopub.status.busy": "2021-09-09T07:56:41.305039Z",
     "iopub.status.idle": "2021-09-09T07:56:42.117923Z",
     "shell.execute_reply": "2021-09-09T07:56:42.115817Z",
     "shell.execute_reply.started": "2021-09-09T07:56:41.306197Z"
    },
    "tags": []
   },
   "outputs": [],
   "source": [
    "b=phoebe.default_binary()"
   ]
  },
  {
   "cell_type": "code",
   "execution_count": 24,
   "id": "0e3df1b8-8f14-432b-b2c3-507b92dba8b8",
   "metadata": {
    "execution": {
     "iopub.execute_input": "2021-09-09T07:56:42.122657Z",
     "iopub.status.busy": "2021-09-09T07:56:42.121965Z",
     "iopub.status.idle": "2021-09-09T07:56:42.321423Z",
     "shell.execute_reply": "2021-09-09T07:56:42.318464Z",
     "shell.execute_reply.started": "2021-09-09T07:56:42.122591Z"
    },
    "tags": []
   },
   "outputs": [
    {
     "name": "stdout",
     "output_type": "stream",
     "text": [
      "ParameterSet: 30 parameters\n",
      "                  distance@system: 1.0 m\n",
      "                    vgamma@system: 0.0 km / s\n",
      "                        Av@system: 0.0\n",
      "                        Rv@system: 3.1\n",
      "         requiv@primary@component: 1.0 solRad\n",
      "           teff@primary@component: 6000.0 K\n",
      "           abun@primary@component: 0.0\n",
      "        syncpar@primary@component: 1.0\n",
      "          pitch@primary@component: 0.0 deg\n",
      "            yaw@primary@component: 0.0 deg\n",
      "      gravb_bol@primary@component: 0.32\n",
      "   irrad_frac_refl_bol@primary...: 0.6\n",
      "       requiv@secondary@component: 1.0 solRad\n",
      "         teff@secondary@component: 6000.0 K\n",
      "         abun@secondary@component: 0.0\n",
      "      syncpar@secondary@component: 1.0\n",
      "        pitch@secondary@component: 0.0 deg\n",
      "          yaw@secondary@component: 0.0 deg\n",
      "    gravb_bol@secondary@component: 0.32\n",
      "   irrad_frac_refl_bol@seconda...: 0.6\n",
      "          period@binary@component: 1.0 d\n",
      "            dpdt@binary@component: 0.0 s / yr\n",
      "            per0@binary@component: 0.0 deg\n",
      "          dperdt@binary@component: 0.0 deg / yr\n",
      "             ecc@binary@component: 0.0\n",
      "      t0_supconj@binary@component: 0.0 d\n",
      "            incl@binary@component: 90.0 deg\n",
      "               q@binary@component: 1.0\n",
      "             sma@binary@component: 5.3 solRad\n",
      "         long_an@binary@component: 0.0 deg\n"
     ]
    }
   ],
   "source": [
    "print(b.get_adjustable_parameters())"
   ]
  },
  {
   "cell_type": "markdown",
   "id": "9776c1fb-2971-4dc0-bbf9-8f40fa1cb24b",
   "metadata": {
    "tags": []
   },
   "source": [
    "### Paper: Discovery of β Cep pulsations in the eclipsing binary V453 Cygni [doi:10.1093/mnrasl/slaa091]\n",
    "\n",
    "<img src=chttps://github.com/Vysakh13579/FITTING_BINARIES/blob/85a643457cd860a495f999754a7afb6de2fc7ea5/parameters.png](https://github.com/Vysakh13579/FITTING_BINARIES/blob/85a643457cd860a495f999754a7afb6de2fc7ea5/parameters.png 'Title' )\n"
   ]
  },
  {
   "cell_type": "code",
   "execution_count": 25,
   "id": "91ae0075-4d21-4561-afcf-153e421f00db",
   "metadata": {
    "execution": {
     "iopub.execute_input": "2021-09-09T07:56:42.326171Z",
     "iopub.status.busy": "2021-09-09T07:56:42.324652Z",
     "iopub.status.idle": "2021-09-09T07:56:52.701941Z",
     "shell.execute_reply": "2021-09-09T07:56:52.699886Z",
     "shell.execute_reply.started": "2021-09-09T07:56:42.326094Z"
    },
    "tags": []
   },
   "outputs": [],
   "source": [
    "b['vgamma@system']=-6.28\n",
    "\n",
    "b['requiv@primary@component']=0.793\n",
    "b['requiv@secondary@component']=0.344\n",
    "\n",
    "b['teff@primary@component']=5560\n",
    "b['teff@secondary@component']=3540\n",
    "\n",
    "b['sma@binary@component']=11.03\n",
    "\n",
    "b['period@binary@component']= 4.12879\n",
    "b['per0@binary@component']=92.8\n",
    "b['ecc@binary@component']=0.0365\n",
    "b['incl@binary@component']=87.003\n",
    "b['q@binary@component']=0.553\n",
    "b['t0_supconj@binary@component']=1\n"
   ]
  },
  {
   "cell_type": "code",
   "execution_count": 26,
   "id": "df046392-1586-452a-9b05-cad76d7a6e72",
   "metadata": {
    "execution": {
     "iopub.execute_input": "2021-09-09T07:56:52.707589Z",
     "iopub.status.busy": "2021-09-09T07:56:52.706200Z",
     "iopub.status.idle": "2021-09-09T07:56:52.970499Z",
     "shell.execute_reply": "2021-09-09T07:56:52.967471Z",
     "shell.execute_reply.started": "2021-09-09T07:56:52.707514Z"
    },
    "tags": []
   },
   "outputs": [],
   "source": [
    "b['gravb_bol@primary@component']=0.4353\n",
    "b['gravb_bol@secondary@component']=0.3712"
   ]
  },
  {
   "cell_type": "markdown",
   "id": "682edf5d-0383-4e07-80c1-c4a34818651e",
   "metadata": {
    "tags": []
   },
   "source": [
    "## Spots"
   ]
  },
  {
   "cell_type": "code",
   "execution_count": 27,
   "id": "08b156fa-32f9-4cca-9deb-3062661e32d1",
   "metadata": {
    "execution": {
     "iopub.execute_input": "2021-09-09T07:56:52.974669Z",
     "iopub.status.busy": "2021-09-09T07:56:52.973611Z",
     "iopub.status.idle": "2021-09-09T07:56:53.190475Z",
     "shell.execute_reply": "2021-09-09T07:56:53.188278Z",
     "shell.execute_reply.started": "2021-09-09T07:56:52.974560Z"
    },
    "tags": []
   },
   "outputs": [
    {
     "data": {
      "text/plain": [
       "<ParameterSet: 5 parameters | contexts: compute, feature>"
      ]
     },
     "execution_count": 27,
     "metadata": {},
     "output_type": "execute_result"
    }
   ],
   "source": [
    "b.add_feature('spot', component='primary', feature='spot01')\n",
    "b.add_feature('spot', component='primary', feature='spot02')"
   ]
  },
  {
   "cell_type": "code",
   "execution_count": 28,
   "id": "bebfaa77-8367-4041-9309-31f98a9d5f31",
   "metadata": {
    "execution": {
     "iopub.execute_input": "2021-09-09T07:56:53.194104Z",
     "iopub.status.busy": "2021-09-09T07:56:53.193265Z",
     "iopub.status.idle": "2021-09-09T07:56:53.920443Z",
     "shell.execute_reply": "2021-09-09T07:56:53.918323Z",
     "shell.execute_reply.started": "2021-09-09T07:56:53.194031Z"
    },
    "tags": []
   },
   "outputs": [],
   "source": [
    "b.set_value(qualifier='relteff', feature='spot01', value=0.98141)\n",
    "b.set_value(qualifier='radius', feature='spot01', value=19.97)\n",
    "b.set_value(qualifier='colat', feature='spot01', value=81.3)\n",
    "b.set_value(qualifier='long', feature='spot01', value=18.2)\n",
    "\n",
    "b.set_value(qualifier='relteff', feature='spot02', value=0.9801)\n",
    "b.set_value(qualifier='radius', feature='spot02', value=14.5)\n",
    "b.set_value(qualifier='colat', feature='spot02', value=34.9)\n",
    "b.set_value(qualifier='long', feature='spot02', value= 286.31)"
   ]
  },
  {
   "cell_type": "code",
   "execution_count": 29,
   "id": "30692b3e-4f20-41db-96db-aea5c160759f",
   "metadata": {
    "execution": {
     "iopub.execute_input": "2021-09-09T07:56:53.923883Z",
     "iopub.status.busy": "2021-09-09T07:56:53.923181Z",
     "iopub.status.idle": "2021-09-09T07:56:53.980088Z",
     "shell.execute_reply": "2021-09-09T07:56:53.977637Z",
     "shell.execute_reply.started": "2021-09-09T07:56:53.923816Z"
    },
    "tags": []
   },
   "outputs": [
    {
     "name": "stdout",
     "output_type": "stream",
     "text": [
      "Parameter: Av@system\n",
      "                       Qualifier: Av\n",
      "                     Description: Extinction Av\n",
      "                           Value: 0.0\n",
      "                  Constrained by: \n",
      "                      Constrains: ebv@system\n",
      "                      Related to: Rv@system, ebv@system\n",
      "\n"
     ]
    }
   ],
   "source": [
    "print(b['Av@system'])"
   ]
  },
  {
   "cell_type": "code",
   "execution_count": 30,
   "id": "1666fb7f-33e5-4ad9-8d62-ff07825e7561",
   "metadata": {
    "execution": {
     "iopub.execute_input": "2021-09-09T07:56:53.987776Z",
     "iopub.status.busy": "2021-09-09T07:56:53.986783Z",
     "iopub.status.idle": "2021-09-09T07:56:57.126577Z",
     "shell.execute_reply": "2021-09-09T07:56:57.124392Z",
     "shell.execute_reply.started": "2021-09-09T07:56:53.987701Z"
    },
    "tags": []
   },
   "outputs": [
    {
     "data": {
      "text/plain": [
       "<ParameterSet: 81 parameters | contexts: compute, constraint, figure, dataset>"
      ]
     },
     "execution_count": 30,
     "metadata": {},
     "output_type": "execute_result"
    }
   ],
   "source": [
    "lctimes=phoebe.linspace(0,15,501)\n",
    "rvtimes=phoebe.linspace(0,15,101)\n",
    "b.add_dataset('lc', times=lctimes, dataset='lc01',overwrite=True)\n",
    "b.add_dataset('rv', times=rvtimes, dataset='rv01',overwrite=True)"
   ]
  },
  {
   "cell_type": "markdown",
   "id": "501b4d27-e914-4d78-8e49-d06cbbccffa2",
   "metadata": {},
   "source": [
    "### As the above did not have limb darkening values, I refered to the previous paper by the same author\n",
    "[doi:10.1093/mnras/sty2516]\n",
    "\n",
    "![https://github.com/Vysakh13579/FITTING_BINARIES/blob/85a643457cd860a495f999754a7afb6de2fc7ea5/param2.png](https://github.com/Vysakh13579/FITTING_BINARIES/blob/85a643457cd860a495f999754a7afb6de2fc7ea5/param2.png \"Title\")"
   ]
  },
  {
   "cell_type": "code",
   "execution_count": 31,
   "id": "81c99d31-96e8-4f10-bf60-45c0007ab354",
   "metadata": {
    "execution": {
     "iopub.execute_input": "2021-09-09T07:56:57.129316Z",
     "iopub.status.busy": "2021-09-09T07:56:57.128620Z",
     "iopub.status.idle": "2021-09-09T07:56:59.185404Z",
     "shell.execute_reply": "2021-09-09T07:56:59.183419Z",
     "shell.execute_reply.started": "2021-09-09T07:56:57.129250Z"
    },
    "tags": []
   },
   "outputs": [],
   "source": [
    "b.set_value_all('atm','phoenix')\n",
    "b.set_value_all('passband','Johnson:V')"
   ]
  },
  {
   "cell_type": "code",
   "execution_count": null,
   "id": "a95c6c4d-9d7c-404c-b56e-167e7db90cb4",
   "metadata": {
    "tags": []
   },
   "outputs": [],
   "source": []
  },
  {
   "cell_type": "code",
   "execution_count": 32,
   "id": "78fe00da-6151-4365-9e58-ee04070dbd4d",
   "metadata": {
    "execution": {
     "iopub.execute_input": "2021-09-09T07:56:59.189103Z",
     "iopub.status.busy": "2021-09-09T07:56:59.188126Z",
     "iopub.status.idle": "2021-09-09T07:56:59.481826Z",
     "shell.execute_reply": "2021-09-09T07:56:59.479773Z",
     "shell.execute_reply.started": "2021-09-09T07:56:59.189032Z"
    },
    "tags": []
   },
   "outputs": [
    {
     "name": "stdout",
     "output_type": "stream",
     "text": [
      "ParameterSet: 26 parameters\n",
      "               times@lc01@dataset: [ 0.    0.03  0.06 ... 14.94 14.97 15.  ] d\n",
      "              fluxes@lc01@dataset: [] W / m2\n",
      "            passband@lc01@dataset: Johnson:V\n",
      "    intens_weighting@lc01@dataset: energy\n",
      "       compute_times@lc01@dataset: [] d\n",
      "C     compute_phases@lc01@dataset: []\n",
      "           phases_t0@lc01@dataset: t0_supconj\n",
      "        mask_enabled@lc01@dataset: True\n",
      "         mask_phases@lc01@dataset: []\n",
      "        solver_times@lc01@dataset: auto\n",
      "              sigmas@lc01@dataset: [] W / m2\n",
      "          pblum_mode@lc01@dataset: component-coupled\n",
      "     pblum_component@lc01@dataset: primary\n",
      "             l3_mode@lc01@dataset: flux\n",
      "                  l3@lc01@dataset: 0.0 W / m2\n",
      "             exptime@lc01@dataset: 0.0 s\n",
      "    enabled@lc01@phoebe01@compute: True\n",
      "      fti_method@phoebe01@compute: none\n",
      "     ld_mode@primary@lc01@dataset: interp\n",
      "   ld_mode@secondary@lc01@dataset: interp\n",
      "       pblum@primary@lc01@dataset: 12.566370614359172 W\n",
      "   compute_phases@lc01@constraint: times_to_phases({compute_times@lc01@dataset}, {phases_period@lc01@dataset}, {period@binary@component}, {period_anom@binary@component}, {phases_dpdt@lc01@dataset}, {dpdt@binary@component}, {phases_t0@lc01@dataset}, {t0_supconj@binary@component}, {t0_perpass@binary@component}, {t0_ref@binary@component})\n",
      "           latex_repr@lc01@figure: \n",
      "                color@lc01@figure: black\n",
      "               marker@lc01@figure: .\n",
      "            linestyle@lc01@figure: solid\n"
     ]
    }
   ],
   "source": [
    "print(b.filter(dataset='lc01'))"
   ]
  },
  {
   "cell_type": "code",
   "execution_count": null,
   "id": "e269e9e0-203f-40e6-9aab-3f05f6415366",
   "metadata": {},
   "outputs": [],
   "source": []
  },
  {
   "cell_type": "code",
   "execution_count": 33,
   "id": "e53637f4-91e8-4996-a9a8-a2cde629d6b3",
   "metadata": {
    "execution": {
     "iopub.execute_input": "2021-09-09T07:56:59.485190Z",
     "iopub.status.busy": "2021-09-09T07:56:59.484366Z",
     "iopub.status.idle": "2021-09-09T07:57:05.517780Z",
     "shell.execute_reply": "2021-09-09T07:57:05.515640Z",
     "shell.execute_reply.started": "2021-09-09T07:56:59.485118Z"
    },
    "tags": []
   },
   "outputs": [],
   "source": [
    "b.set_value_all(qualifier='ld_mode', value='manual')\n",
    "b.set_value_all(qualifier='ld_func', value='square_root')\n",
    "b.set_value_all(qualifier='ld_coeffs', component='primary', value=[0.4786, 0.3242])\n",
    "b.set_value_all(qualifier='ld_coeffs', component='secondary', value=[ 0.1759, 0.7896])"
   ]
  },
  {
   "cell_type": "code",
   "execution_count": 34,
   "id": "d125126b-bf55-4f64-bd3b-180fd2f031ee",
   "metadata": {
    "execution": {
     "iopub.execute_input": "2021-09-09T07:57:05.520907Z",
     "iopub.status.busy": "2021-09-09T07:57:05.520213Z",
     "iopub.status.idle": "2021-09-09T07:57:09.218273Z",
     "shell.execute_reply": "2021-09-09T07:57:09.216221Z",
     "shell.execute_reply.started": "2021-09-09T07:57:05.520840Z"
    },
    "tags": []
   },
   "outputs": [],
   "source": [
    "b.set_value_all('ld_mode_bol', 'manual')\n",
    "b.set_value_all('ld_func_bol','square_root')\n",
    "b.set_value('ld_coeffs_bol@primary@component',[ 0.3811, 0.3636])\n",
    "b.set_value('ld_coeffs_bol@secondary@component',[-0.0427, 0.8284])\n",
    "b.set_value('irrad_frac_refl_bol@primary@component',0.6)\n",
    "b.set_value('irrad_frac_refl_bol@secondary@component',0.6)\n",
    "\n"
   ]
  },
  {
   "cell_type": "code",
   "execution_count": 35,
   "id": "56089b62-fd61-409d-9c78-8a428003b7f2",
   "metadata": {
    "execution": {
     "iopub.execute_input": "2021-09-09T07:57:09.221002Z",
     "iopub.status.busy": "2021-09-09T07:57:09.220328Z",
     "iopub.status.idle": "2021-09-09T07:57:10.294673Z",
     "shell.execute_reply": "2021-09-09T07:57:10.292618Z",
     "shell.execute_reply.started": "2021-09-09T07:57:09.220938Z"
    },
    "tags": []
   },
   "outputs": [],
   "source": [
    "b.set_value_all('l3_mode', 'fraction')\n",
    "b.set_value_all('l3_frac', 0.02297)"
   ]
  },
  {
   "cell_type": "code",
   "execution_count": 36,
   "id": "11c1c816-f773-4321-b0de-92fcc6fec2cf",
   "metadata": {
    "execution": {
     "iopub.execute_input": "2021-09-09T07:57:10.298160Z",
     "iopub.status.busy": "2021-09-09T07:57:10.297323Z",
     "iopub.status.idle": "2021-09-09T07:57:10.641722Z",
     "shell.execute_reply": "2021-09-09T07:57:10.639088Z",
     "shell.execute_reply.started": "2021-09-09T07:57:10.298090Z"
    },
    "tags": []
   },
   "outputs": [
    {
     "name": "stdout",
     "output_type": "stream",
     "text": [
      "Run Checks Report: PASS\n",
      "\n"
     ]
    }
   ],
   "source": [
    "print(b.run_checks())"
   ]
  },
  {
   "cell_type": "code",
   "execution_count": null,
   "id": "787bdf9e-3ea9-494a-ba82-df8a7a1fa293",
   "metadata": {
    "tags": []
   },
   "outputs": [],
   "source": []
  },
  {
   "cell_type": "code",
   "execution_count": 37,
   "id": "ff7751f6-2118-442e-ad85-6829a8b51957",
   "metadata": {
    "execution": {
     "iopub.execute_input": "2021-09-09T07:57:10.646106Z",
     "iopub.status.busy": "2021-09-09T07:57:10.645033Z",
     "iopub.status.idle": "2021-09-09T08:00:27.833838Z",
     "shell.execute_reply": "2021-09-09T08:00:27.831804Z",
     "shell.execute_reply.started": "2021-09-09T07:57:10.646002Z"
    },
    "scrolled": true,
    "tags": []
   },
   "outputs": [
    {
     "name": "stderr",
     "output_type": "stream",
     "text": [
      "100%|█████████████████████████████████████████████████████████████████████████| 501/501 [03:12<00:00,  2.60it/s]\n"
     ]
    }
   ],
   "source": [
    "b.add_compute('phoebe', compute='fastcompute',overwrite=True)\n",
    "b.run_compute(compute='fastcompute')\n",
    "\n",
    "fluxes = b.get_value('fluxes@model') + np.random.normal(size=lctimes.shape) * 0.001\n",
    "fsigmas = np.ones_like(lctimes) * 0.002\n",
    "\n",
    "rvsA = b.get_value('rvs@primary@model') + np.random.normal(size=rvtimes.shape) * 7.5\n",
    "rvsB = b.get_value('rvs@secondary@model') + np.random.normal(size=rvtimes.shape) * 7.5\n",
    "rvsigmas = np.ones_like(rvtimes) * 15"
   ]
  },
  {
   "cell_type": "code",
   "execution_count": 38,
   "id": "0d073a48-dbc1-4b11-a804-dfc1689576cf",
   "metadata": {
    "execution": {
     "iopub.execute_input": "2021-09-09T08:00:27.838362Z",
     "iopub.status.busy": "2021-09-09T08:00:27.837130Z",
     "iopub.status.idle": "2021-09-09T08:00:29.270928Z",
     "shell.execute_reply": "2021-09-09T08:00:29.267903Z",
     "shell.execute_reply.started": "2021-09-09T08:00:27.838250Z"
    },
    "tags": []
   },
   "outputs": [
    {
     "data": {
      "image/png": "[encoded data removed]",
      "text/plain": [
       "<Figure size 576x864 with 2 Axes>"
      ]
     },
     "metadata": {
      "needs_background": "light"
     },
     "output_type": "display_data"
    },
    {
     "data": {
      "text/plain": [
       "(<autofig.figure.Figure | 2 axes | 3 call(s)>,\n",
       " <Figure size 576x864 with 2 Axes>)"
      ]
     },
     "execution_count": 38,
     "metadata": {},
     "output_type": "execute_result"
    }
   ],
   "source": [
    "b.plot(x='phases',show=True,legends=True)"
   ]
  },
  {
   "cell_type": "code",
   "execution_count": null,
   "id": "51d17151-e6df-42b1-940d-765e3a8df112",
   "metadata": {},
   "outputs": [],
   "source": []
  },
  {
   "cell_type": "code",
   "execution_count": 39,
   "id": "99f6a182-241e-447c-a2eb-4e8c7349d659",
   "metadata": {
    "execution": {
     "iopub.execute_input": "2021-09-09T08:00:29.276624Z",
     "iopub.status.busy": "2021-09-09T08:00:29.275117Z",
     "iopub.status.idle": "2021-09-09T08:00:32.866105Z",
     "shell.execute_reply": "2021-09-09T08:00:32.863643Z",
     "shell.execute_reply.started": "2021-09-09T08:00:29.276476Z"
    },
    "tags": []
   },
   "outputs": [],
   "source": [
    "nb = phoebe.default_binary()\n",
    "nb['period@binary@component']=4.12879"
   ]
  },
  {
   "cell_type": "code",
   "execution_count": 40,
   "id": "9bd8b486-bcc5-485e-90a8-20299e686f20",
   "metadata": {
    "execution": {
     "iopub.execute_input": "2021-09-09T08:00:32.870462Z",
     "iopub.status.busy": "2021-09-09T08:00:32.869328Z",
     "iopub.status.idle": "2021-09-09T08:00:41.433162Z",
     "shell.execute_reply": "2021-09-09T08:00:41.430171Z",
     "shell.execute_reply.started": "2021-09-09T08:00:32.870356Z"
    },
    "tags": []
   },
   "outputs": [
    {
     "data": {
      "image/png": "[encoded data removed]",
      "text/plain": [
       "<Figure size 576x864 with 2 Axes>"
      ]
     },
     "metadata": {
      "needs_background": "light"
     },
     "output_type": "display_data"
    }
   ],
   "source": [
    "nb.add_dataset('lc', times = lctimes, fluxes=fluxes, sigmas=fsigmas,dataset='lc01', passband='Johnson:V',overwrite=True)\n",
    "nb.add_dataset('rv',dataset='rv01',overwrite=True)\n",
    "nb['times@rv@primary'], nb['rvs@rv@primary'], nb['sigmas@rv@primary'] = rvtimes, rvsA, rvsigmas\n",
    "nb['times@rv@secondary'], nb['rvs@rv@secondary'], nb['sigmas@rv@secondary'] = rvtimes, rvsB, rvsigmas\n",
    "_ = nb.plot(x='phases', show=True,m='.')"
   ]
  },
  {
   "cell_type": "code",
   "execution_count": null,
   "id": "b592ced2-df6b-49e7-8734-92c4679f7e68",
   "metadata": {},
   "outputs": [],
   "source": []
  },
  {
   "cell_type": "code",
   "execution_count": 41,
   "id": "614fe151-abd1-4b8a-a8a3-3e3ce26edf2a",
   "metadata": {
    "execution": {
     "iopub.execute_input": "2021-09-09T08:00:41.439487Z",
     "iopub.status.busy": "2021-09-09T08:00:41.437351Z",
     "iopub.status.idle": "2021-09-09T08:00:41.550736Z",
     "shell.execute_reply": "2021-09-09T08:00:41.545270Z",
     "shell.execute_reply.started": "2021-09-09T08:00:41.439317Z"
    },
    "tags": []
   },
   "outputs": [],
   "source": [
    "data1=pd.DataFrame({'Times':lctimes,\n",
    "                   'Fluxes':fluxes,\n",
    "                   'Sigma':fsigmas})\n",
    "data1.to_csv('lcdata_wspot.out',index=False,header=False)"
   ]
  },
  {
   "cell_type": "code",
   "execution_count": 42,
   "id": "4922eb80-7c9f-4e88-8ec7-d39d7f1d04e1",
   "metadata": {
    "execution": {
     "iopub.execute_input": "2021-09-09T08:00:41.562556Z",
     "iopub.status.busy": "2021-09-09T08:00:41.560668Z",
     "iopub.status.idle": "2021-09-09T08:00:41.635909Z",
     "shell.execute_reply": "2021-09-09T08:00:41.632236Z",
     "shell.execute_reply.started": "2021-09-09T08:00:41.562347Z"
    },
    "tags": []
   },
   "outputs": [],
   "source": [
    "data2=pd.DataFrame({'Times':rvtimes,\n",
    "                   'Fluxes':rvsA,\n",
    "                       'Sigma':rvsigmas})\n",
    "data2.to_csv('rv1data_wspot.out',index=False,header=False)\n",
    "\n",
    "data3=pd.DataFrame({'Times':rvtimes,\n",
    "                   'Fluxes':rvsB,\n",
    "                       'Sigma':rvsigmas})\n",
    "data3.to_csv('rv2data_wspot.out',index=False,header=False)"
   ]
  },
  {
   "cell_type": "code",
   "execution_count": null,
   "id": "5e8f70cd-7eb3-4663-8469-0eec91caa27d",
   "metadata": {},
   "outputs": [],
   "source": []
  },
  {
   "cell_type": "code",
   "execution_count": null,
   "id": "9426e73c-482e-4772-aa5e-e76a0121b395",
   "metadata": {},
   "outputs": [],
   "source": []
  },
  {
   "cell_type": "code",
   "execution_count": null,
   "id": "00775433-f19d-4744-a716-7b4104f4ea37",
   "metadata": {},
   "outputs": [],
   "source": []
  },
  {
   "cell_type": "code",
   "execution_count": null,
   "id": "9627de8c-0014-4bc4-8ba0-5e7dd1c8baa3",
   "metadata": {},
   "outputs": [],
   "source": []
  },
  {
   "cell_type": "code",
   "execution_count": null,
   "id": "a1204ba2-9f97-4768-bb3a-8123f2cbbc12",
   "metadata": {},
   "outputs": [],
   "source": []
  },
  {
   "cell_type": "code",
   "execution_count": null,
   "id": "4c21788f-5a1f-44b9-84a2-c5ba6d1b20d9",
   "metadata": {},
   "outputs": [],
   "source": []
  },
  {
   "cell_type": "code",
   "execution_count": null,
   "id": "21f1bde5-0008-443f-871a-8b2781a62409",
   "metadata": {},
   "outputs": [],
   "source": []
  },
  {
   "cell_type": "code",
   "execution_count": null,
   "id": "11cd0e51-8a69-4c1b-8ee9-287c52dd975b",
   "metadata": {},
   "outputs": [],
   "source": []
  },
  {
   "cell_type": "code",
   "execution_count": null,
   "id": "3a69a072-2c4f-4d95-bfdb-5dae2e38b739",
   "metadata": {},
   "outputs": [],
   "source": []
  },
  {
   "cell_type": "code",
   "execution_count": null,
   "id": "80f06b21-8f45-4e07-9dd0-62bd0ec2df76",
   "metadata": {},
   "outputs": [],
   "source": []
  },
  {
   "cell_type": "code",
   "execution_count": null,
   "id": "0f2184ca-2292-4df0-82dd-e3be3160a825",
   "metadata": {},
   "outputs": [],
   "source": []
  },
  {
   "cell_type": "code",
   "execution_count": null,
   "id": "11f0af25-28ae-4f83-94a7-e35b79505841",
   "metadata": {},
   "outputs": [],
   "source": []
  },
  {
   "cell_type": "code",
   "execution_count": null,
   "id": "840e7937-86a5-4814-ae19-7a171f0f6f6f",
   "metadata": {},
   "outputs": [],
   "source": []
  },
  {
   "cell_type": "code",
   "execution_count": null,
   "id": "e63873dc-c0f4-49c7-bad8-e3bf770675e9",
   "metadata": {},
   "outputs": [],
   "source": []
  },
  {
   "cell_type": "code",
   "execution_count": null,
   "id": "107c2720-c08e-42c9-ac01-9275fa5bfe1b",
   "metadata": {},
   "outputs": [],
   "source": []
  },
  {
   "cell_type": "code",
   "execution_count": null,
   "id": "7e6bf974-a81e-432b-b1eb-f539604a6b6f",
   "metadata": {},
   "outputs": [],
   "source": []
  },
  {
   "cell_type": "code",
   "execution_count": null,
   "id": "15cb0ab5-0082-457a-a7a6-4690417d2a15",
   "metadata": {},
   "outputs": [],
   "source": []
  },
  {
   "cell_type": "code",
   "execution_count": null,
   "id": "ccc474c8-1aab-4310-a554-8081f26ccb46",
   "metadata": {},
   "outputs": [],
   "source": []
  },
  {
   "cell_type": "code",
   "execution_count": null,
   "id": "ec3ac651-4487-45c9-99b9-2baf785d5b84",
   "metadata": {},
   "outputs": [],
   "source": []
  },
  {
   "cell_type": "code",
   "execution_count": null,
   "id": "a6649b71-5474-4d8c-8ee8-8ca4b390785f",
   "metadata": {},
   "outputs": [],
   "source": []
  },
  {
   "cell_type": "code",
   "execution_count": null,
   "id": "092bd05a-53ec-4ec5-b47a-bdda39aa45b6",
   "metadata": {},
   "outputs": [],
   "source": []
  },
  {
   "cell_type": "code",
   "execution_count": null,
   "id": "7dc39354-a72f-44a6-922f-b3ce7c080142",
   "metadata": {},
   "outputs": [],
   "source": []
  },
  {
   "cell_type": "code",
   "execution_count": null,
   "id": "92ae9ae9-532c-403f-9a04-0dfb44778d39",
   "metadata": {},
   "outputs": [],
   "source": []
  },
  {
   "cell_type": "code",
   "execution_count": null,
   "id": "0adf8f0e-f0ad-4aec-965d-52b8f36ccb6c",
   "metadata": {},
   "outputs": [],
   "source": []
  }
 ],
 "metadata": {
  "kernelspec": {
   "display_name": "Python 3 (ipykernel)",
   "language": "python",
   "name": "python3"
  },
  "language_info": {
   "codemirror_mode": {
    "name": "ipython",
    "version": 3
   },
   "file_extension": ".py",
   "mimetype": "text/x-python",
   "name": "python",
   "nbconvert_exporter": "python",
   "pygments_lexer": "ipython3",
   "version": "3.8.10"
  }
 },
 "nbformat": 4,
 "nbformat_minor": 5
}
