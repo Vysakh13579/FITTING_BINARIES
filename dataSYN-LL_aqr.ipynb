{
 "cells": [
  {
   "cell_type": "code",
   "execution_count": 1,
   "id": "eb08177d-66d0-4c8d-bb4b-348d1087ec52",
   "metadata": {
    "execution": {
     "iopub.execute_input": "2021-09-09T07:03:54.850947Z",
     "iopub.status.busy": "2021-09-09T07:03:54.849007Z",
     "iopub.status.idle": "2021-09-09T07:03:56.650752Z",
     "shell.execute_reply": "2021-09-09T07:03:56.648629Z",
     "shell.execute_reply.started": "2021-09-09T07:03:54.850744Z"
    },
    "tags": []
   },
   "outputs": [],
   "source": [
    "import matplotlib.pyplot as plt\n",
    "import warnings\n",
    "import matplotlib.cbook\n",
    "import pandas as pd\n",
    "warnings.filterwarnings(\"ignore\",category=matplotlib.cbook.mplDeprecation)"
   ]
  },
  {
   "cell_type": "code",
   "execution_count": 2,
   "id": "51d298e7-de24-4696-9e8f-ad9dfc495d84",
   "metadata": {
    "execution": {
     "iopub.execute_input": "2021-09-09T07:03:56.654765Z",
     "iopub.status.busy": "2021-09-09T07:03:56.654065Z",
     "iopub.status.idle": "2021-09-09T07:04:04.327414Z",
     "shell.execute_reply": "2021-09-09T07:04:04.325197Z",
     "shell.execute_reply.started": "2021-09-09T07:03:56.654701Z"
    },
    "tags": []
   },
   "outputs": [],
   "source": [
    "import phoebe\n",
    "import numpy as np\n",
    "\n",
    "logger = phoebe.logger('error')"
   ]
  },
  {
   "cell_type": "code",
   "execution_count": 20,
   "id": "0b770354-3e8f-40b6-9d24-6f7b9a2ca156",
   "metadata": {
    "execution": {
     "iopub.execute_input": "2021-09-09T07:09:21.217381Z",
     "iopub.status.busy": "2021-09-09T07:09:21.215032Z",
     "iopub.status.idle": "2021-09-09T07:09:22.169883Z",
     "shell.execute_reply": "2021-09-09T07:09:22.167361Z",
     "shell.execute_reply.started": "2021-09-09T07:09:21.217277Z"
    },
    "tags": []
   },
   "outputs": [],
   "source": [
    "b=phoebe.default_binary()"
   ]
  },
  {
   "cell_type": "code",
   "execution_count": 21,
   "id": "0e3df1b8-8f14-432b-b2c3-507b92dba8b8",
   "metadata": {
    "execution": {
     "iopub.execute_input": "2021-09-09T07:09:22.176119Z",
     "iopub.status.busy": "2021-09-09T07:09:22.174760Z",
     "iopub.status.idle": "2021-09-09T07:09:22.343580Z",
     "shell.execute_reply": "2021-09-09T07:09:22.341044Z",
     "shell.execute_reply.started": "2021-09-09T07:09:22.176038Z"
    },
    "tags": []
   },
   "outputs": [
    {
     "name": "stdout",
     "output_type": "stream",
     "text": [
      "ParameterSet: 30 parameters\n",
      "                  distance@system: 1.0 m\n",
      "                    vgamma@system: 0.0 km / s\n",
      "                        Av@system: 0.0\n",
      "                        Rv@system: 3.1\n",
      "         requiv@primary@component: 1.0 solRad\n",
      "           teff@primary@component: 6000.0 K\n",
      "           abun@primary@component: 0.0\n",
      "        syncpar@primary@component: 1.0\n",
      "          pitch@primary@component: 0.0 deg\n",
      "            yaw@primary@component: 0.0 deg\n",
      "      gravb_bol@primary@component: 0.32\n",
      "   irrad_frac_refl_bol@primary...: 0.6\n",
      "       requiv@secondary@component: 1.0 solRad\n",
      "         teff@secondary@component: 6000.0 K\n",
      "         abun@secondary@component: 0.0\n",
      "      syncpar@secondary@component: 1.0\n",
      "        pitch@secondary@component: 0.0 deg\n",
      "          yaw@secondary@component: 0.0 deg\n",
      "    gravb_bol@secondary@component: 0.32\n",
      "   irrad_frac_refl_bol@seconda...: 0.6\n",
      "          period@binary@component: 1.0 d\n",
      "            dpdt@binary@component: 0.0 s / yr\n",
      "            per0@binary@component: 0.0 deg\n",
      "          dperdt@binary@component: 0.0 deg / yr\n",
      "             ecc@binary@component: 0.0\n",
      "      t0_supconj@binary@component: 0.0 d\n",
      "            incl@binary@component: 90.0 deg\n",
      "               q@binary@component: 1.0\n",
      "             sma@binary@component: 5.3 solRad\n",
      "         long_an@binary@component: 0.0 deg\n"
     ]
    }
   ],
   "source": [
    "print(b.get_adjustable_parameters())"
   ]
  },
  {
   "cell_type": "markdown",
   "id": "9776c1fb-2971-4dc0-bbf9-8f40fa1cb24b",
   "metadata": {
    "tags": []
   },
   "source": [
    "### Paper: Discovery of β Cep pulsations in the eclipsing binary V453 Cygni [doi:10.1093/mnrasl/slaa091]\n",
    "\n",
    "<img src=chttps://github.com/Vysakh13579/FITTING_BINARIES/blob/85a643457cd860a495f999754a7afb6de2fc7ea5/parameters.png](https://github.com/Vysakh13579/FITTING_BINARIES/blob/85a643457cd860a495f999754a7afb6de2fc7ea5/parameters.png 'Title' )\n"
   ]
  },
  {
   "cell_type": "code",
   "execution_count": 22,
   "id": "91ae0075-4d21-4561-afcf-153e421f00db",
   "metadata": {
    "execution": {
     "iopub.execute_input": "2021-09-09T07:09:22.347504Z",
     "iopub.status.busy": "2021-09-09T07:09:22.346625Z",
     "iopub.status.idle": "2021-09-09T07:09:33.162860Z",
     "shell.execute_reply": "2021-09-09T07:09:33.160747Z",
     "shell.execute_reply.started": "2021-09-09T07:09:22.347402Z"
    },
    "tags": []
   },
   "outputs": [],
   "source": [
    "\n",
    "b['requiv@primary@component']=1.325\n",
    "b['requiv@secondary@component']=1.005\n",
    "\n",
    "b['teff@primary@component']=6680\n",
    "b['teff@secondary@component']= 6200\n",
    "\n",
    "b['sma@binary@component']=41.03\n",
    "\n",
    "b['period@binary@component']= 20.178\n",
    "b['per0@binary@component']=158.86\n",
    "b['ecc@binary@component']=0.3095\n",
    "b['incl@binary@component']=89.51\n",
    "b['q@binary@component']=0.8630\n",
    "b['t0_supconj@binary@component']=0\n"
   ]
  },
  {
   "cell_type": "code",
   "execution_count": 23,
   "id": "df046392-1586-452a-9b05-cad76d7a6e72",
   "metadata": {
    "execution": {
     "iopub.execute_input": "2021-09-09T07:09:33.168400Z",
     "iopub.status.busy": "2021-09-09T07:09:33.167403Z",
     "iopub.status.idle": "2021-09-09T07:09:33.532745Z",
     "shell.execute_reply": "2021-09-09T07:09:33.530534Z",
     "shell.execute_reply.started": "2021-09-09T07:09:33.168327Z"
    },
    "tags": []
   },
   "outputs": [],
   "source": [
    "b['gravb_bol@primary@component']=1\n",
    "b['gravb_bol@secondary@component']=0.32"
   ]
  },
  {
   "cell_type": "code",
   "execution_count": 49,
   "id": "1666fb7f-33e5-4ad9-8d62-ff07825e7561",
   "metadata": {
    "execution": {
     "iopub.execute_input": "2021-09-09T07:13:47.139051Z",
     "iopub.status.busy": "2021-09-09T07:13:47.137482Z",
     "iopub.status.idle": "2021-09-09T07:13:51.970930Z",
     "shell.execute_reply": "2021-09-09T07:13:51.968267Z",
     "shell.execute_reply.started": "2021-09-09T07:13:47.138970Z"
    },
    "tags": []
   },
   "outputs": [
    {
     "data": {
      "text/plain": [
       "<ParameterSet: 50 parameters | contexts: constraint, compute, dataset, figure>"
      ]
     },
     "execution_count": 49,
     "metadata": {},
     "output_type": "execute_result"
    }
   ],
   "source": [
    "lctimes=phoebe.linspace(0,100,501)\n",
    "rvtimes=phoebe.linspace(0,100,101)\n",
    "b.add_dataset('lc', times=lctimes, dataset='lc01',overwrite=True)\n",
    "b.add_dataset('rv', times=rvtimes, dataset='rv01',overwrite=True)"
   ]
  },
  {
   "cell_type": "markdown",
   "id": "501b4d27-e914-4d78-8e49-d06cbbccffa2",
   "metadata": {},
   "source": [
    "### As the above did not have limb darkening values, I refered to the previous paper by the same author\n",
    "[doi:10.1093/mnras/sty2516]\n",
    "\n",
    "![https://github.com/Vysakh13579/FITTING_BINARIES/blob/85a643457cd860a495f999754a7afb6de2fc7ea5/param2.png](https://github.com/Vysakh13579/FITTING_BINARIES/blob/85a643457cd860a495f999754a7afb6de2fc7ea5/param2.png \"Title\")"
   ]
  },
  {
   "cell_type": "code",
   "execution_count": 50,
   "id": "81c99d31-96e8-4f10-bf60-45c0007ab354",
   "metadata": {
    "execution": {
     "iopub.execute_input": "2021-09-09T07:13:51.977886Z",
     "iopub.status.busy": "2021-09-09T07:13:51.976431Z",
     "iopub.status.idle": "2021-09-09T07:13:56.244175Z",
     "shell.execute_reply": "2021-09-09T07:13:56.242077Z",
     "shell.execute_reply.started": "2021-09-09T07:13:51.977752Z"
    },
    "tags": []
   },
   "outputs": [],
   "source": [
    "b.set_value_all('atm','phoenix')\n",
    "b.set_value_all('passband','Johnson:V')"
   ]
  },
  {
   "cell_type": "code",
   "execution_count": null,
   "id": "a95c6c4d-9d7c-404c-b56e-167e7db90cb4",
   "metadata": {
    "tags": []
   },
   "outputs": [],
   "source": []
  },
  {
   "cell_type": "code",
   "execution_count": 51,
   "id": "78fe00da-6151-4365-9e58-ee04070dbd4d",
   "metadata": {
    "execution": {
     "iopub.execute_input": "2021-09-09T07:13:56.247912Z",
     "iopub.status.busy": "2021-09-09T07:13:56.247216Z",
     "iopub.status.idle": "2021-09-09T07:13:56.678205Z",
     "shell.execute_reply": "2021-09-09T07:13:56.675668Z",
     "shell.execute_reply.started": "2021-09-09T07:13:56.247846Z"
    },
    "tags": []
   },
   "outputs": [
    {
     "name": "stdout",
     "output_type": "stream",
     "text": [
      "ParameterSet: 28 parameters\n",
      "               times@lc01@dataset: [  0.    0.2   0.4 ...  99.6  99.8 100. ] d\n",
      "              fluxes@lc01@dataset: [] W / m2\n",
      "            passband@lc01@dataset: Johnson:V\n",
      "    intens_weighting@lc01@dataset: energy\n",
      "       compute_times@lc01@dataset: [] d\n",
      "C     compute_phases@lc01@dataset: []\n",
      "           phases_t0@lc01@dataset: t0_supconj\n",
      "        mask_enabled@lc01@dataset: True\n",
      "         mask_phases@lc01@dataset: []\n",
      "        solver_times@lc01@dataset: auto\n",
      "              sigmas@lc01@dataset: [] W / m2\n",
      "          pblum_mode@lc01@dataset: component-coupled\n",
      "     pblum_component@lc01@dataset: primary\n",
      "             l3_mode@lc01@dataset: flux\n",
      "                  l3@lc01@dataset: 0.0 W / m2\n",
      "             exptime@lc01@dataset: 0.0 s\n",
      "    enabled@lc01@phoebe01@compute: True\n",
      "      fti_method@phoebe01@compute: none\n",
      "   enabled@lc01@fastcompute@co...: True\n",
      "   fti_method@fastcompute@compute: none\n",
      "     ld_mode@primary@lc01@dataset: interp\n",
      "   ld_mode@secondary@lc01@dataset: interp\n",
      "       pblum@primary@lc01@dataset: 12.566370614359172 W\n",
      "   compute_phases@lc01@constraint: times_to_phases({compute_times@lc01@dataset}, {phases_period@lc01@dataset}, {period@binary@component}, {period_anom@binary@component}, {phases_dpdt@lc01@dataset}, {dpdt@binary@component}, {phases_t0@lc01@dataset}, {t0_supconj@binary@component}, {t0_perpass@binary@component}, {t0_ref@binary@component})\n",
      "           latex_repr@lc01@figure: \n",
      "                color@lc01@figure: red\n",
      "               marker@lc01@figure: *\n",
      "            linestyle@lc01@figure: solid\n"
     ]
    }
   ],
   "source": [
    "print(b.filter(dataset='lc01'))"
   ]
  },
  {
   "cell_type": "code",
   "execution_count": null,
   "id": "e269e9e0-203f-40e6-9aab-3f05f6415366",
   "metadata": {},
   "outputs": [],
   "source": []
  },
  {
   "cell_type": "code",
   "execution_count": 52,
   "id": "e53637f4-91e8-4996-a9a8-a2cde629d6b3",
   "metadata": {
    "execution": {
     "iopub.execute_input": "2021-09-09T07:13:56.686014Z",
     "iopub.status.busy": "2021-09-09T07:13:56.684739Z",
     "iopub.status.idle": "2021-09-09T07:14:04.058953Z",
     "shell.execute_reply": "2021-09-09T07:14:04.056392Z",
     "shell.execute_reply.started": "2021-09-09T07:13:56.685910Z"
    },
    "tags": []
   },
   "outputs": [],
   "source": [
    "b.set_value_all(qualifier='ld_mode', value='manual')\n",
    "b.set_value_all(qualifier='ld_func', value='square_root')\n",
    "b.set_value_all(qualifier='ld_coeffs', component='primary', value=[0.125,0.727])\n",
    "b.set_value_all(qualifier='ld_coeffs', component='secondary', value=[0.259,0.598])"
   ]
  },
  {
   "cell_type": "code",
   "execution_count": 53,
   "id": "d125126b-bf55-4f64-bd3b-180fd2f031ee",
   "metadata": {
    "execution": {
     "iopub.execute_input": "2021-09-09T07:14:04.062281Z",
     "iopub.status.busy": "2021-09-09T07:14:04.061494Z",
     "iopub.status.idle": "2021-09-09T07:14:09.201178Z",
     "shell.execute_reply": "2021-09-09T07:14:09.198457Z",
     "shell.execute_reply.started": "2021-09-09T07:14:04.062209Z"
    },
    "tags": []
   },
   "outputs": [],
   "source": [
    "b.set_value_all('ld_mode_bol', 'manual')\n",
    "b.set_value_all('ld_func_bol','square_root')\n",
    "b.set_value('ld_coeffs_bol@primary@component',[0.097,0.661])\n",
    "b.set_value('ld_coeffs_bol@secondary@component',[0.173, 0.577])\n",
    "b.set_value('irrad_frac_refl_bol@primary@component',0.6)\n",
    "b.set_value('irrad_frac_refl_bol@secondary@component',0.6)\n",
    "\n"
   ]
  },
  {
   "cell_type": "code",
   "execution_count": 54,
   "id": "56089b62-fd61-409d-9c78-8a428003b7f2",
   "metadata": {
    "execution": {
     "iopub.execute_input": "2021-09-09T07:14:09.204596Z",
     "iopub.status.busy": "2021-09-09T07:14:09.203757Z",
     "iopub.status.idle": "2021-09-09T07:14:10.675926Z",
     "shell.execute_reply": "2021-09-09T07:14:10.673820Z",
     "shell.execute_reply.started": "2021-09-09T07:14:09.204528Z"
    },
    "tags": []
   },
   "outputs": [],
   "source": []
  },
  {
   "cell_type": "code",
   "execution_count": 55,
   "id": "11c1c816-f773-4321-b0de-92fcc6fec2cf",
   "metadata": {
    "execution": {
     "iopub.execute_input": "2021-09-09T07:14:10.679076Z",
     "iopub.status.busy": "2021-09-09T07:14:10.678412Z",
     "iopub.status.idle": "2021-09-09T07:14:11.182907Z",
     "shell.execute_reply": "2021-09-09T07:14:11.180259Z",
     "shell.execute_reply.started": "2021-09-09T07:14:10.679013Z"
    },
    "tags": []
   },
   "outputs": [
    {
     "name": "stdout",
     "output_type": "stream",
     "text": [
      "Run Checks Report: PASS\n",
      "\n"
     ]
    }
   ],
   "source": [
    "print(b.run_checks())"
   ]
  },
  {
   "cell_type": "code",
   "execution_count": null,
   "id": "787bdf9e-3ea9-494a-ba82-df8a7a1fa293",
   "metadata": {
    "tags": []
   },
   "outputs": [],
   "source": []
  },
  {
   "cell_type": "code",
   "execution_count": 64,
   "id": "ff7751f6-2118-442e-ad85-6829a8b51957",
   "metadata": {
    "execution": {
     "iopub.execute_input": "2021-09-09T07:15:50.157805Z",
     "iopub.status.busy": "2021-09-09T07:15:50.156282Z",
     "iopub.status.idle": "2021-09-09T07:19:10.089731Z",
     "shell.execute_reply": "2021-09-09T07:19:10.087543Z",
     "shell.execute_reply.started": "2021-09-09T07:15:50.157666Z"
    },
    "scrolled": true,
    "tags": []
   },
   "outputs": [
    {
     "name": "stderr",
     "output_type": "stream",
     "text": [
      "100%|█████████████████████████████████████████████████████████████████████████| 501/501 [03:15<00:00,  2.56it/s]\n"
     ]
    }
   ],
   "source": [
    "b.add_compute('phoebe', compute='fastcompute',overwrite=True)\n",
    "b.run_compute(compute='fastcompute')\n",
    "\n",
    "fluxes = b.get_value('fluxes@model') + np.random.normal(size=lctimes.shape) * 0.01\n",
    "fsigmas = np.ones_like(lctimes) * 0.02\n",
    "\n",
    "rvsA = b.get_value('rvs@primary@model') + np.random.normal(size=rvtimes.shape) * 5\n",
    "rvsB = b.get_value('rvs@secondary@model') + np.random.normal(size=rvtimes.shape) * 5\n",
    "rvsigmas = np.ones_like(rvtimes) * 10"
   ]
  },
  {
   "cell_type": "code",
   "execution_count": 66,
   "id": "0d073a48-dbc1-4b11-a804-dfc1689576cf",
   "metadata": {
    "execution": {
     "iopub.execute_input": "2021-09-09T07:24:39.151721Z",
     "iopub.status.busy": "2021-09-09T07:24:39.150789Z",
     "iopub.status.idle": "2021-09-09T07:24:40.634920Z",
     "shell.execute_reply": "2021-09-09T07:24:40.632415Z",
     "shell.execute_reply.started": "2021-09-09T07:24:39.151648Z"
    },
    "tags": []
   },
   "outputs": [
    {
     "data": {
      "image/png": "[encoded data removed]",
      "text/plain": [
       "<Figure size 576x864 with 2 Axes>"
      ]
     },
     "metadata": {
      "needs_background": "light"
     },
     "output_type": "display_data"
    },
    {
     "data": {
      "text/plain": [
       "(<autofig.figure.Figure | 2 axes | 3 call(s)>,\n",
       " <Figure size 576x864 with 2 Axes>)"
      ]
     },
     "execution_count": 66,
     "metadata": {},
     "output_type": "execute_result"
    }
   ],
   "source": [
    "b.plot(x='times',show=True,legends=True,save='LL_aqr.jpeg')"
   ]
  },
  {
   "cell_type": "code",
   "execution_count": null,
   "id": "51d17151-e6df-42b1-940d-765e3a8df112",
   "metadata": {},
   "outputs": [],
   "source": []
  },
  {
   "cell_type": "code",
   "execution_count": 58,
   "id": "99f6a182-241e-447c-a2eb-4e8c7349d659",
   "metadata": {
    "execution": {
     "iopub.execute_input": "2021-09-09T07:14:14.659049Z",
     "iopub.status.busy": "2021-09-09T07:14:14.658122Z",
     "iopub.status.idle": "2021-09-09T07:14:18.062534Z",
     "shell.execute_reply": "2021-09-09T07:14:18.060442Z",
     "shell.execute_reply.started": "2021-09-09T07:14:14.658978Z"
    },
    "tags": []
   },
   "outputs": [],
   "source": [
    "nb = phoebe.default_binary()\n",
    "nb['period@binary@component']=20.178"
   ]
  },
  {
   "cell_type": "code",
   "execution_count": 59,
   "id": "9bd8b486-bcc5-485e-90a8-20299e686f20",
   "metadata": {
    "execution": {
     "iopub.execute_input": "2021-09-09T07:14:18.066735Z",
     "iopub.status.busy": "2021-09-09T07:14:18.065691Z",
     "iopub.status.idle": "2021-09-09T07:14:25.891099Z",
     "shell.execute_reply": "2021-09-09T07:14:25.888852Z",
     "shell.execute_reply.started": "2021-09-09T07:14:18.066639Z"
    },
    "tags": []
   },
   "outputs": [
    {
     "data": {
      "image/png": "[encoded data removed]",
      "text/plain": [
       "<Figure size 576x864 with 2 Axes>"
      ]
     },
     "metadata": {
      "needs_background": "light"
     },
     "output_type": "display_data"
    }
   ],
   "source": [
    "nb.add_dataset('lc', times = lctimes, fluxes=fluxes, sigmas=fsigmas,dataset='lc01', passband='Johnson:V',overwrite=True)\n",
    "nb.add_dataset('rv',dataset='rv01',overwrite=True)\n",
    "nb['times@rv@primary'], nb['rvs@rv@primary'], nb['sigmas@rv@primary'] = rvtimes, rvsA, rvsigmas\n",
    "nb['times@rv@secondary'], nb['rvs@rv@secondary'], nb['sigmas@rv@secondary'] = rvtimes, rvsB, rvsigmas\n",
    "_ = nb.plot(x='phases', show=True,m='.')"
   ]
  },
  {
   "cell_type": "code",
   "execution_count": null,
   "id": "b592ced2-df6b-49e7-8734-92c4679f7e68",
   "metadata": {},
   "outputs": [],
   "source": []
  },
  {
   "cell_type": "code",
   "execution_count": 60,
   "id": "614fe151-abd1-4b8a-a8a3-3e3ce26edf2a",
   "metadata": {
    "execution": {
     "iopub.execute_input": "2021-09-09T07:14:25.894495Z",
     "iopub.status.busy": "2021-09-09T07:14:25.893807Z",
     "iopub.status.idle": "2021-09-09T07:14:26.014826Z",
     "shell.execute_reply": "2021-09-09T07:14:26.012174Z",
     "shell.execute_reply.started": "2021-09-09T07:14:25.894429Z"
    },
    "tags": []
   },
   "outputs": [],
   "source": [
    "data1=pd.DataFrame({'Times':lctimes,\n",
    "                   'Fluxes':fluxes,\n",
    "                   'Sigma':fsigmas})\n",
    "data1.to_csv('lcdata_LLaqr.out',index=False,header=False)"
   ]
  },
  {
   "cell_type": "code",
   "execution_count": 61,
   "id": "4922eb80-7c9f-4e88-8ec7-d39d7f1d04e1",
   "metadata": {
    "execution": {
     "iopub.execute_input": "2021-09-09T07:14:26.019990Z",
     "iopub.status.busy": "2021-09-09T07:14:26.018371Z",
     "iopub.status.idle": "2021-09-09T07:14:26.131404Z",
     "shell.execute_reply": "2021-09-09T07:14:26.129364Z",
     "shell.execute_reply.started": "2021-09-09T07:14:26.019909Z"
    },
    "tags": []
   },
   "outputs": [],
   "source": [
    "data2=pd.DataFrame({'Times':rvtimes,\n",
    "                   'Fluxes':rvsA,\n",
    "                       'Sigma':rvsigmas})\n",
    "data2.to_csv('rv1data_LLaqr.out',index=False,header=False)\n",
    "\n",
    "data3=pd.DataFrame({'Times':rvtimes,\n",
    "                   'Fluxes':rvsB,\n",
    "                       'Sigma':rvsigmas})\n",
    "data3.to_csv('rv2data_LLaqr.out',index=False,header=False)"
   ]
  },
  {
   "cell_type": "code",
   "execution_count": null,
   "id": "5e8f70cd-7eb3-4663-8469-0eec91caa27d",
   "metadata": {},
   "outputs": [],
   "source": []
  },
  {
   "cell_type": "code",
   "execution_count": null,
   "id": "9426e73c-482e-4772-aa5e-e76a0121b395",
   "metadata": {},
   "outputs": [],
   "source": []
  },
  {
   "cell_type": "code",
   "execution_count": null,
   "id": "00775433-f19d-4744-a716-7b4104f4ea37",
   "metadata": {},
   "outputs": [],
   "source": []
  },
  {
   "cell_type": "code",
   "execution_count": null,
   "id": "9627de8c-0014-4bc4-8ba0-5e7dd1c8baa3",
   "metadata": {},
   "outputs": [],
   "source": []
  },
  {
   "cell_type": "code",
   "execution_count": null,
   "id": "a1204ba2-9f97-4768-bb3a-8123f2cbbc12",
   "metadata": {},
   "outputs": [],
   "source": []
  },
  {
   "cell_type": "code",
   "execution_count": null,
   "id": "4c21788f-5a1f-44b9-84a2-c5ba6d1b20d9",
   "metadata": {},
   "outputs": [],
   "source": []
  },
  {
   "cell_type": "code",
   "execution_count": null,
   "id": "21f1bde5-0008-443f-871a-8b2781a62409",
   "metadata": {},
   "outputs": [],
   "source": []
  },
  {
   "cell_type": "code",
   "execution_count": null,
   "id": "11cd0e51-8a69-4c1b-8ee9-287c52dd975b",
   "metadata": {},
   "outputs": [],
   "source": []
  },
  {
   "cell_type": "code",
   "execution_count": null,
   "id": "3a69a072-2c4f-4d95-bfdb-5dae2e38b739",
   "metadata": {},
   "outputs": [],
   "source": []
  },
  {
   "cell_type": "code",
   "execution_count": null,
   "id": "80f06b21-8f45-4e07-9dd0-62bd0ec2df76",
   "metadata": {},
   "outputs": [],
   "source": []
  },
  {
   "cell_type": "code",
   "execution_count": null,
   "id": "0f2184ca-2292-4df0-82dd-e3be3160a825",
   "metadata": {},
   "outputs": [],
   "source": []
  },
  {
   "cell_type": "code",
   "execution_count": null,
   "id": "11f0af25-28ae-4f83-94a7-e35b79505841",
   "metadata": {},
   "outputs": [],
   "source": []
  },
  {
   "cell_type": "code",
   "execution_count": null,
   "id": "840e7937-86a5-4814-ae19-7a171f0f6f6f",
   "metadata": {},
   "outputs": [],
   "source": []
  },
  {
   "cell_type": "code",
   "execution_count": null,
   "id": "e63873dc-c0f4-49c7-bad8-e3bf770675e9",
   "metadata": {},
   "outputs": [],
   "source": []
  },
  {
   "cell_type": "code",
   "execution_count": null,
   "id": "107c2720-c08e-42c9-ac01-9275fa5bfe1b",
   "metadata": {},
   "outputs": [],
   "source": []
  },
  {
   "cell_type": "code",
   "execution_count": null,
   "id": "7e6bf974-a81e-432b-b1eb-f539604a6b6f",
   "metadata": {},
   "outputs": [],
   "source": []
  },
  {
   "cell_type": "code",
   "execution_count": null,
   "id": "15cb0ab5-0082-457a-a7a6-4690417d2a15",
   "metadata": {},
   "outputs": [],
   "source": []
  },
  {
   "cell_type": "code",
   "execution_count": null,
   "id": "ccc474c8-1aab-4310-a554-8081f26ccb46",
   "metadata": {},
   "outputs": [],
   "source": []
  },
  {
   "cell_type": "code",
   "execution_count": null,
   "id": "ec3ac651-4487-45c9-99b9-2baf785d5b84",
   "metadata": {},
   "outputs": [],
   "source": []
  },
  {
   "cell_type": "code",
   "execution_count": null,
   "id": "a6649b71-5474-4d8c-8ee8-8ca4b390785f",
   "metadata": {},
   "outputs": [],
   "source": []
  },
  {
   "cell_type": "code",
   "execution_count": null,
   "id": "092bd05a-53ec-4ec5-b47a-bdda39aa45b6",
   "metadata": {},
   "outputs": [],
   "source": []
  },
  {
   "cell_type": "code",
   "execution_count": null,
   "id": "7dc39354-a72f-44a6-922f-b3ce7c080142",
   "metadata": {},
   "outputs": [],
   "source": []
  },
  {
   "cell_type": "code",
   "execution_count": null,
   "id": "92ae9ae9-532c-403f-9a04-0dfb44778d39",
   "metadata": {},
   "outputs": [],
   "source": []
  },
  {
   "cell_type": "code",
   "execution_count": null,
   "id": "0adf8f0e-f0ad-4aec-965d-52b8f36ccb6c",
   "metadata": {},
   "outputs": [],
   "source": []
  }
 ],
 "metadata": {
  "kernelspec": {
   "display_name": "Python 3 (ipykernel)",
   "language": "python",
   "name": "python3"
  },
  "language_info": {
   "codemirror_mode": {
    "name": "ipython",
    "version": 3
   },
   "file_extension": ".py",
   "mimetype": "text/x-python",
   "name": "python",
   "nbconvert_exporter": "python",
   "pygments_lexer": "ipython3",
   "version": "3.8.10"
  }
 },
 "nbformat": 4,
 "nbformat_minor": 5
}
